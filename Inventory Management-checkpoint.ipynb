{
 "cells": [
  {
   "cell_type": "code",
   "execution_count": 84,
   "id": "53723f50",
   "metadata": {},
   "outputs": [],
   "source": [
    "#opening the file\n",
    "fd=open(\"Inventory Management.txt\",\"w\")\n",
    "\n",
    "fd.close()"
   ]
  },
  {
   "cell_type": "markdown",
   "id": "4887b9ea",
   "metadata": {},
   "source": [
    "Product details\n",
    "1. Product ID\n",
    "2. Name of Product\n",
    "3. Price of Product\n",
    "4. Quantity\n"
   ]
  },
  {
   "cell_type": "code",
   "execution_count": 16,
   "id": "c6072c95",
   "metadata": {},
   "outputs": [],
   "source": [
    "#Opening the file\n",
    "fd =open(\"Inventory Management.txt\", \"r\")\n",
    "products=fd.read().split(\"\\n\")\n",
    "fd.close()"
   ]
  },
  {
   "cell_type": "code",
   "execution_count": 19,
   "id": "115e74ef",
   "metadata": {},
   "outputs": [
    {
     "name": "stdout",
     "output_type": "stream",
     "text": [
      "1, 5 Star, 5, 100\n",
      "2, Milky Bar, 5, 100\n",
      "3, Coke, 300, 5\n",
      "4, Candy, 1, 200\n"
     ]
    }
   ],
   "source": [
    "#to print all the items\n",
    "products\n",
    "\n",
    "#another way of printing\n",
    "for product in products:\n",
    "    print(product)\n"
   ]
  },
  {
   "cell_type": "code",
   "execution_count": 11,
   "id": "44a6d06c",
   "metadata": {},
   "outputs": [
    {
     "name": "stdout",
     "output_type": "stream",
     "text": [
      "['1, 5 Star, 5, 100', '2, Milky Bar, 5, 100', '3, Coke, 300, 5', '4, Candy, 1, 200']\n"
     ]
    },
    {
     "data": {
      "text/plain": [
       "4"
      ]
     },
     "execution_count": 11,
     "metadata": {},
     "output_type": "execute_result"
    }
   ],
   "source": [
    "#For splitting the differetn data\n",
    "print(txt.split(\"\\n\"))\n",
    "\n",
    "# For counting total no of products\n",
    "len(txt.split(\"\\n\"))"
   ]
  },
  {
   "cell_type": "code",
   "execution_count": 71,
   "id": "fcfd92ed",
   "metadata": {},
   "outputs": [
    {
     "name": "stdout",
     "output_type": "stream",
     "text": [
      "Enter product id- 1\n",
      "1,5 Star,5,95\n"
     ]
    }
   ],
   "source": [
    "#to take user inputof product id and return the details of that product\n",
    "ui_prod_id=input(\"Enter product id- \")\n",
    "\n",
    "for product in products:\n",
    "    if(product[0]==ui_prod_id):\n",
    "        print(product)"
   ]
  },
  {
   "cell_type": "code",
   "execution_count": 99,
   "id": "c362a0b7",
   "metadata": {},
   "outputs": [
    {
     "name": "stdout",
     "output_type": "stream",
     "text": [
      "Enter product id- 1\n",
      "Enter the amount you want to buy- 5\n",
      "Product name-                   5 Star\n",
      "Price-                          5\n",
      "Quantity you want to purchase-  5\n",
      "---------------------------------\n",
      "Total bill-                     25\n",
      "----------------------------------\n"
     ]
    }
   ],
   "source": [
    "#Opening the file\n",
    "fd =open(\"Inventory Management.txt\", \"r\")\n",
    "products=fd.read().split(\"\\n\")\n",
    "fd.close()\n",
    "\n",
    "#to take user input and create a bill for them\n",
    "\n",
    "ui_prod_id=input(\"Enter product id- \")\n",
    "ui_prod_qn=input(\"Enter the amount you want to buy- \")\n",
    "\n",
    "updated_product_list=[]\n",
    "\n",
    "for product in products:\n",
    "    prod_details=product.split(\",\")\n",
    "    if (prod_details[0]==ui_prod_id):\n",
    "        if(int(prod_details[3])>=int(ui_prod_qn)):\n",
    "            print(\"Product name-                  \", prod_details[1])\n",
    "            print(\"Price-                         \", prod_details[2])\n",
    "            print(\"Quantity you want to purchase- \", ui_prod_qn)\n",
    "            print(\"---------------------------------\")\n",
    "            print(\"Total bill-                    \", int(ui_prod_qn) * int(prod_details[2]))\n",
    "            prod_details[3]=str(int(prod_details[3])-int(ui_prod_qn))\n",
    "            print(\"----------------------------------\")\n",
    "        else:\n",
    "            print(\"We don't have that much quantity.\")\n",
    "            print(\"We only have\", prod_details[3],\"items left in stock\")\n",
    "            print(\"Shall I give you all of them? \")\n",
    "            ch==input(\"Press Y/N\")\n",
    "            if(ch=='Y' or ch=='y'):\n",
    "                print(\"Product name-                  \", prod_details[1])\n",
    "                print(\"Price-                         \", prod_details[2])\n",
    "                print(\"Quantity you want to purchase- \", prod_details[3])\n",
    "                print(\"---------------------------------\")\n",
    "                print(\"Total bill-                    \", int(prod_details[3]) * int(prod_details[2]))\n",
    "                prod_details[3]='0'\n",
    "                print(\"----------------------------------\")\n",
    "            \n",
    "    #print(prod_details)\n",
    "    updated_product_list.append(prod_details)\n",
    "    \n",
    "#updating the inventory after the items are sold \n",
    "\n",
    "lst=[]\n",
    "\n",
    "for i in updated_product_list:\n",
    "    prod= i[0]+\",\"+i[1]+\",\"+i[2]+\",\"+i[3] + \"\\n\"\n",
    "    lst.append(prod)\n",
    "\n",
    "lst[-1]=lst[-1][:-1]\n",
    "\n",
    "fd=open(\"Inventory Management.txt\",'w')\n",
    "\n",
    "#writing in the folder\n",
    "for i in lst:\n",
    "    fd.write(i)\n",
    "fd.close()"
   ]
  },
  {
   "cell_type": "code",
   "execution_count": null,
   "id": "261e9b73",
   "metadata": {},
   "outputs": [],
   "source": [
    "1,5 Star,5,95\n",
    "2,Milky Bar,5,100\n",
    "3,Coke,300,5\n",
    "4,Candy,1,200"
   ]
  }
 ],
 "metadata": {
  "kernelspec": {
   "display_name": "Python 3 (ipykernel)",
   "language": "python",
   "name": "python3"
  },
  "language_info": {
   "codemirror_mode": {
    "name": "ipython",
    "version": 3
   },
   "file_extension": ".py",
   "mimetype": "text/x-python",
   "name": "python",
   "nbconvert_exporter": "python",
   "pygments_lexer": "ipython3",
   "version": "3.11.5"
  }
 },
 "nbformat": 4,
 "nbformat_minor": 5
}
